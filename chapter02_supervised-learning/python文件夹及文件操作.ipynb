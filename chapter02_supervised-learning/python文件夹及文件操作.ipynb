{
 "cells": [
  {
   "cell_type": "code",
   "execution_count": 1,
   "metadata": {
    "ExecuteTime": {
     "end_time": "2017-09-26T06:14:40.264011Z",
     "start_time": "2017-09-26T06:14:40.255188Z"
    }
   },
   "outputs": [
    {
     "data": {
      "text/plain": [
       "'posix'"
      ]
     },
     "execution_count": 1,
     "metadata": {},
     "output_type": "execute_result"
    }
   ],
   "source": [
    "import os\n",
    "os.name"
   ]
  },
  {
   "cell_type": "code",
   "execution_count": 2,
   "metadata": {
    "ExecuteTime": {
     "end_time": "2017-09-26T06:15:08.791845Z",
     "start_time": "2017-09-26T06:15:08.789021Z"
    }
   },
   "outputs": [
    {
     "data": {
      "text/plain": [
       "posix.uname_result(sysname='Linux', nodename='ben', release='4.10.0-35-generic', version='#39~16.04.1-Ubuntu SMP Wed Sep 13 09:02:42 UTC 2017', machine='x86_64')"
      ]
     },
     "execution_count": 2,
     "metadata": {},
     "output_type": "execute_result"
    }
   ],
   "source": [
    "os.uname()"
   ]
  },
  {
   "cell_type": "code",
   "execution_count": 4,
   "metadata": {
    "ExecuteTime": {
     "end_time": "2017-09-26T06:16:46.285391Z",
     "start_time": "2017-09-26T06:16:46.281149Z"
    }
   },
   "outputs": [
    {
     "data": {
      "text/plain": [
       "'/home/ben/.virtualenvs/tf-gpu/bin:/home/ben/.virtualenvs/tf-gpu/bin:/usr/local/cuda/bin:/home/ben/bin:/home/ben/.local/bin:/usr/local/sbin:/usr/local/bin:/usr/sbin:/usr/bin:/sbin:/bin:/usr/games:/usr/local/games:/snap/bin'"
      ]
     },
     "execution_count": 4,
     "metadata": {},
     "output_type": "execute_result"
    }
   ],
   "source": [
    "os.environ.get('PATH')"
   ]
  },
  {
   "cell_type": "code",
   "execution_count": 5,
   "metadata": {
    "ExecuteTime": {
     "end_time": "2017-09-26T06:17:51.849830Z",
     "start_time": "2017-09-26T06:17:51.846886Z"
    }
   },
   "outputs": [
    {
     "data": {
      "text/plain": [
       "'default'"
      ]
     },
     "execution_count": 5,
     "metadata": {},
     "output_type": "execute_result"
    }
   ],
   "source": [
    "os.environ.get('x', 'default')"
   ]
  },
  {
   "cell_type": "code",
   "execution_count": 6,
   "metadata": {
    "ExecuteTime": {
     "end_time": "2017-09-26T06:18:49.770918Z",
     "start_time": "2017-09-26T06:18:49.768115Z"
    }
   },
   "outputs": [
    {
     "data": {
      "text/plain": [
       "'/home/ben/桌面/gluon-tutorials-zh-master/chapter02_supervised-learning'"
      ]
     },
     "execution_count": 6,
     "metadata": {},
     "output_type": "execute_result"
    }
   ],
   "source": [
    "os.path.abspath('.')"
   ]
  },
  {
   "cell_type": "code",
   "execution_count": 13,
   "metadata": {
    "ExecuteTime": {
     "end_time": "2017-09-26T06:23:32.122818Z",
     "start_time": "2017-09-26T06:23:32.119282Z"
    }
   },
   "outputs": [
    {
     "data": {
      "text/plain": [
       "'/home/ben/桌面/gluon-tutorials-zh-master/chapter02_supervised-learning/testdir1'"
      ]
     },
     "execution_count": 13,
     "metadata": {},
     "output_type": "execute_result"
    }
   ],
   "source": [
    "s = os.path.join('/home/ben/桌面/gluon-tutorials-zh-master/chapter02_supervised-learning', 'testdir1')\n",
    "s"
   ]
  },
  {
   "cell_type": "code",
   "execution_count": 14,
   "metadata": {
    "ExecuteTime": {
     "end_time": "2017-09-26T06:23:36.563077Z",
     "start_time": "2017-09-26T06:23:36.560667Z"
    }
   },
   "outputs": [],
   "source": [
    "os.mkdir(s)"
   ]
  },
  {
   "cell_type": "code",
   "execution_count": 17,
   "metadata": {
    "ExecuteTime": {
     "end_time": "2017-09-26T06:24:58.192173Z",
     "start_time": "2017-09-26T06:24:58.187884Z"
    },
    "collapsed": true
   },
   "outputs": [],
   "source": [
    "os.rmdir(s1)"
   ]
  },
  {
   "cell_type": "code",
   "execution_count": 16,
   "metadata": {
    "ExecuteTime": {
     "end_time": "2017-09-26T06:24:49.895579Z",
     "start_time": "2017-09-26T06:24:49.892678Z"
    },
    "collapsed": true
   },
   "outputs": [],
   "source": [
    "s1 = '/home/ben/桌面/gluon-tutorials-zh-master/chapter02_supervised-learning/testdir'"
   ]
  },
  {
   "cell_type": "code",
   "execution_count": 19,
   "metadata": {
    "ExecuteTime": {
     "end_time": "2017-09-26T06:27:35.524488Z",
     "start_time": "2017-09-26T06:27:35.521809Z"
    }
   },
   "outputs": [],
   "source": [
    "l, f = os.path.split('/home/ben/桌面/gluon-tutorials-zh-master/chapter02_supervised-learning/file.txt')"
   ]
  },
  {
   "cell_type": "code",
   "execution_count": 20,
   "metadata": {
    "ExecuteTime": {
     "end_time": "2017-09-26T06:27:39.524321Z",
     "start_time": "2017-09-26T06:27:39.521558Z"
    }
   },
   "outputs": [
    {
     "data": {
      "text/plain": [
       "'/home/ben/桌面/gluon-tutorials-zh-master/chapter02_supervised-learning'"
      ]
     },
     "execution_count": 20,
     "metadata": {},
     "output_type": "execute_result"
    }
   ],
   "source": [
    "l"
   ]
  },
  {
   "cell_type": "code",
   "execution_count": 21,
   "metadata": {
    "ExecuteTime": {
     "end_time": "2017-09-26T06:27:41.999694Z",
     "start_time": "2017-09-26T06:27:41.997142Z"
    }
   },
   "outputs": [
    {
     "data": {
      "text/plain": [
       "'file.txt'"
      ]
     },
     "execution_count": 21,
     "metadata": {},
     "output_type": "execute_result"
    }
   ],
   "source": [
    "f"
   ]
  },
  {
   "cell_type": "code",
   "execution_count": 23,
   "metadata": {
    "ExecuteTime": {
     "end_time": "2017-09-26T06:28:37.909725Z",
     "start_time": "2017-09-26T06:28:37.907662Z"
    }
   },
   "outputs": [],
   "source": [
    "file, ext = os.path.splitext('file.txt')"
   ]
  },
  {
   "cell_type": "code",
   "execution_count": 24,
   "metadata": {
    "ExecuteTime": {
     "end_time": "2017-09-26T06:28:42.398954Z",
     "start_time": "2017-09-26T06:28:42.395580Z"
    }
   },
   "outputs": [
    {
     "data": {
      "text/plain": [
       "'file'"
      ]
     },
     "execution_count": 24,
     "metadata": {},
     "output_type": "execute_result"
    }
   ],
   "source": [
    "file"
   ]
  },
  {
   "cell_type": "code",
   "execution_count": 25,
   "metadata": {
    "ExecuteTime": {
     "end_time": "2017-09-26T06:28:45.368388Z",
     "start_time": "2017-09-26T06:28:45.364041Z"
    }
   },
   "outputs": [
    {
     "data": {
      "text/plain": [
       "'.txt'"
      ]
     },
     "execution_count": 25,
     "metadata": {},
     "output_type": "execute_result"
    }
   ],
   "source": [
    "ext"
   ]
  },
  {
   "cell_type": "code",
   "execution_count": 26,
   "metadata": {
    "ExecuteTime": {
     "end_time": "2017-09-26T06:31:34.870669Z",
     "start_time": "2017-09-26T06:31:34.865706Z"
    },
    "collapsed": true
   },
   "outputs": [],
   "source": [
    "os.rename('test.txt', 'ben.txt')"
   ]
  },
  {
   "cell_type": "code",
   "execution_count": 30,
   "metadata": {
    "ExecuteTime": {
     "end_time": "2017-09-26T06:32:13.369632Z",
     "start_time": "2017-09-26T06:32:13.248035Z"
    }
   },
   "outputs": [
    {
     "name": "stdout",
     "output_type": "stream",
     "text": [
      "ben.txt\r\n"
     ]
    }
   ],
   "source": [
    "ls *.txt"
   ]
  },
  {
   "cell_type": "code",
   "execution_count": 31,
   "metadata": {
    "ExecuteTime": {
     "end_time": "2017-09-26T06:33:34.047716Z",
     "start_time": "2017-09-26T06:33:34.041442Z"
    },
    "collapsed": true
   },
   "outputs": [],
   "source": [
    "os.remove('ben.txt')"
   ]
  },
  {
   "cell_type": "code",
   "execution_count": 32,
   "metadata": {
    "ExecuteTime": {
     "end_time": "2017-09-26T06:33:46.722683Z",
     "start_time": "2017-09-26T06:33:46.613153Z"
    }
   },
   "outputs": [
    {
     "name": "stdout",
     "output_type": "stream",
     "text": [
      "ls: 无法访问'*.txt': 没有那个文件或目录\r\n"
     ]
    }
   ],
   "source": [
    "ls *.txt"
   ]
  },
  {
   "cell_type": "code",
   "execution_count": 33,
   "metadata": {
    "ExecuteTime": {
     "end_time": "2017-09-26T06:36:06.489965Z",
     "start_time": "2017-09-26T06:36:06.486249Z"
    }
   },
   "outputs": [
    {
     "data": {
      "text/plain": [
       "[]"
      ]
     },
     "execution_count": 33,
     "metadata": {},
     "output_type": "execute_result"
    }
   ],
   "source": [
    "[x for x in os.listdir('.') if os.path.isfile(x) and os.path.splitext(x)[1]=='.py']"
   ]
  },
  {
   "cell_type": "code",
   "execution_count": 34,
   "metadata": {
    "ExecuteTime": {
     "end_time": "2017-09-26T06:36:18.461826Z",
     "start_time": "2017-09-26T06:36:18.449102Z"
    }
   },
   "outputs": [
    {
     "data": {
      "text/plain": [
       "['__pycache__', '.ipynb_checkpoints']"
      ]
     },
     "execution_count": 34,
     "metadata": {},
     "output_type": "execute_result"
    }
   ],
   "source": [
    "[x for x in os.listdir('.') if os.path.isdir(x)]"
   ]
  },
  {
   "cell_type": "code",
   "execution_count": 36,
   "metadata": {
    "ExecuteTime": {
     "end_time": "2017-09-26T06:37:48.295838Z",
     "start_time": "2017-09-26T06:37:48.292333Z"
    }
   },
   "outputs": [
    {
     "data": {
      "text/plain": [
       "['softmax-regression-scratch.md',\n",
       " 'reg-scratch.md',\n",
       " 'underfit-overfit.md',\n",
       " 'mlp-scratch.md',\n",
       " 'softmax-regression-gluon.md',\n",
       " 'mlp-gluon.md',\n",
       " 'kaggle-gluon-kfold-0925.md',\n",
       " 'linear-regression-scratch-0926.md',\n",
       " 'Untitled.ipynb',\n",
       " '02.md',\n",
       " 'linear-regression-gluon-0926.md',\n",
       " 'submission.csv',\n",
       " 'reg-gluon.md']"
      ]
     },
     "execution_count": 36,
     "metadata": {},
     "output_type": "execute_result"
    }
   ],
   "source": [
    "[x for x in os.listdir('.') if os.path.isfile(x)]"
   ]
  },
  {
   "cell_type": "code",
   "execution_count": 37,
   "metadata": {
    "ExecuteTime": {
     "end_time": "2017-09-26T06:38:45.950810Z",
     "start_time": "2017-09-26T06:38:45.948262Z"
    }
   },
   "outputs": [
    {
     "name": "stdout",
     "output_type": "stream",
     "text": [
      "['softmax-regression-scratch.md', 'reg-scratch.md', 'underfit-overfit.md', 'mlp-scratch.md', 'softmax-regression-gluon.md', 'mlp-gluon.md', 'kaggle-gluon-kfold-0925.md', 'linear-regression-scratch-0926.md', 'Untitled.ipynb', '02.md', 'linear-regression-gluon-0926.md', 'submission.csv', '__pycache__', '.ipynb_checkpoints', 'reg-gluon.md']\n"
     ]
    }
   ],
   "source": [
    "print(os.listdir('.'))"
   ]
  },
  {
   "cell_type": "code",
   "execution_count": null,
   "metadata": {
    "collapsed": true
   },
   "outputs": [],
   "source": []
  }
 ],
 "metadata": {
  "kernelspec": {
   "display_name": "Python 3",
   "language": "python",
   "name": "python3"
  },
  "language_info": {
   "codemirror_mode": {
    "name": "ipython",
    "version": 3
   },
   "file_extension": ".py",
   "mimetype": "text/x-python",
   "name": "python",
   "nbconvert_exporter": "python",
   "pygments_lexer": "ipython3",
   "version": "3.5.2"
  }
 },
 "nbformat": 4,
 "nbformat_minor": 2
}
